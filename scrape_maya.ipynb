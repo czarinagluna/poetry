{
 "cells": [
  {
   "cell_type": "code",
   "execution_count": 1,
   "id": "8e630e54",
   "metadata": {},
   "outputs": [],
   "source": [
    "from Scweet.scweet import scrape"
   ]
  },
  {
   "cell_type": "code",
   "execution_count": 33,
   "id": "89cefd76",
   "metadata": {
    "scrolled": true
   },
   "outputs": [
    {
     "name": "stdout",
     "output_type": "stream",
     "text": [
      "looking for tweets between 2022-03-01 and 2022-04-01 ...\n",
      " path : https://twitter.com/search?q=(from%3AMayaCPopa)%20until%3A2022-04-01%20since%3A2022-03-01%20&src=typed_query&f=image\n",
      "scroll  1\n",
      "Tweet made at: 2022-03-21T13:39:12.000Z is found.\n",
      "Tweet made at: 2022-03-26T15:25:47.000Z is found.\n",
      "Tweet made at: 2022-03-13T02:59:50.000Z is found.\n",
      "Tweet made at: 2022-03-18T18:18:28.000Z is found.\n",
      "Tweet made at: 2022-03-17T18:31:02.000Z is found.\n",
      "Tweet made at: 2022-03-19T01:15:42.000Z is found.\n",
      "Tweet made at: 2022-03-12T16:24:26.000Z is found.\n",
      "scroll  2\n",
      "Tweet made at: 2022-03-17T21:50:06.000Z is found.\n",
      "Tweet made at: 2022-03-18T13:38:25.000Z is found.\n",
      "Tweet made at: 2022-03-29T01:18:18.000Z is found.\n",
      "Tweet made at: 2022-03-11T19:10:54.000Z is found.\n",
      "Tweet made at: 2022-03-25T21:53:53.000Z is found.\n",
      "Tweet made at: 2022-03-20T19:28:34.000Z is found.\n",
      "Tweet made at: 2022-03-13T16:02:04.000Z is found.\n",
      "Tweet made at: 2022-03-18T21:00:52.000Z is found.\n",
      "Tweet made at: 2022-03-27T14:38:32.000Z is found.\n",
      "Tweet made at: 2022-03-12T02:13:40.000Z is found.\n",
      "Tweet made at: 2022-03-23T13:52:26.000Z is found.\n",
      "scroll  3\n",
      "Tweet made at: 2022-03-23T01:47:46.000Z is found.\n",
      "Tweet made at: 2022-03-28T00:51:33.000Z is found.\n",
      "Tweet made at: 2022-03-21T15:20:46.000Z is found.\n",
      "Tweet made at: 2022-03-17T13:52:39.000Z is found.\n",
      "Tweet made at: 2022-03-14T12:45:54.000Z is found.\n",
      "Tweet made at: 2022-03-24T15:00:07.000Z is found.\n",
      "Tweet made at: 2022-03-15T15:18:04.000Z is found.\n",
      "Tweet made at: 2022-03-18T12:29:45.000Z is found.\n",
      "Tweet made at: 2022-03-22T19:40:27.000Z is found.\n",
      "scroll  4\n",
      "Tweet made at: 2022-03-13T16:38:24.000Z is found.\n",
      "Tweet made at: 2022-03-28T19:20:36.000Z is found.\n",
      "Tweet made at: 2022-03-24T18:42:57.000Z is found.\n",
      "Tweet made at: 2022-03-26T21:10:46.000Z is found.\n",
      "Tweet made at: 2022-03-20T15:01:42.000Z is found.\n",
      "Tweet made at: 2022-03-20T12:46:15.000Z is found.\n",
      "Tweet made at: 2022-03-28T23:13:02.000Z is found.\n",
      "scroll  5\n",
      "Tweet made at: 2022-03-20T12:46:15.000Z is found.\n",
      "scroll  6\n",
      "scroll  7\n",
      "Saving images ...\n"
     ]
    }
   ],
   "source": [
    "maya = scrape(since='2022-03-01', until='2022-04-01', save_dir='maya', headless=False,\n",
    "              from_account='MayaCPopa', display_type='image', save_images=True, interval=31)"
   ]
  },
  {
   "cell_type": "code",
   "execution_count": 43,
   "id": "1c1d3f6c",
   "metadata": {
    "scrolled": true
   },
   "outputs": [
    {
     "data": {
      "text/plain": [
       "pandas.core.frame.DataFrame"
      ]
     },
     "execution_count": 43,
     "metadata": {},
     "output_type": "execute_result"
    }
   ],
   "source": [
    "type(maya)"
   ]
  },
  {
   "cell_type": "code",
   "execution_count": 35,
   "id": "c93d0df4",
   "metadata": {
    "scrolled": true
   },
   "outputs": [
    {
     "ename": "TypeError",
     "evalue": "unhashable type: 'list'",
     "output_type": "error",
     "traceback": [
      "\u001b[0;31m---------------------------------------------------------------------------\u001b[0m",
      "\u001b[0;31mTypeError\u001b[0m                                 Traceback (most recent call last)",
      "Cell \u001b[0;32mIn[35], line 1\u001b[0m\n\u001b[0;32m----> 1\u001b[0m \u001b[43mmaya\u001b[49m\u001b[43m[\u001b[49m\u001b[38;5;124;43m'\u001b[39;49m\u001b[38;5;124;43mImage link\u001b[39;49m\u001b[38;5;124;43m'\u001b[39;49m\u001b[43m]\u001b[49m\u001b[38;5;241;43m.\u001b[39;49m\u001b[43mnunique\u001b[49m\u001b[43m(\u001b[49m\u001b[43m)\u001b[49m\n",
      "File \u001b[0;32m/opt/homebrew/Caskroom/miniforge/base/envs/tw-env/lib/python3.11/site-packages/pandas/core/base.py:1039\u001b[0m, in \u001b[0;36mIndexOpsMixin.nunique\u001b[0;34m(self, dropna)\u001b[0m\n\u001b[1;32m   1005\u001b[0m \u001b[38;5;28;01mdef\u001b[39;00m \u001b[38;5;21mnunique\u001b[39m(\u001b[38;5;28mself\u001b[39m, dropna: \u001b[38;5;28mbool\u001b[39m \u001b[38;5;241m=\u001b[39m \u001b[38;5;28;01mTrue\u001b[39;00m) \u001b[38;5;241m-\u001b[39m\u001b[38;5;241m>\u001b[39m \u001b[38;5;28mint\u001b[39m:\n\u001b[1;32m   1006\u001b[0m     \u001b[38;5;124;03m\"\"\"\u001b[39;00m\n\u001b[1;32m   1007\u001b[0m \u001b[38;5;124;03m    Return number of unique elements in the object.\u001b[39;00m\n\u001b[1;32m   1008\u001b[0m \n\u001b[0;32m   (...)\u001b[0m\n\u001b[1;32m   1037\u001b[0m \u001b[38;5;124;03m    4\u001b[39;00m\n\u001b[1;32m   1038\u001b[0m \u001b[38;5;124;03m    \"\"\"\u001b[39;00m\n\u001b[0;32m-> 1039\u001b[0m     uniqs \u001b[38;5;241m=\u001b[39m \u001b[38;5;28;43mself\u001b[39;49m\u001b[38;5;241;43m.\u001b[39;49m\u001b[43munique\u001b[49m\u001b[43m(\u001b[49m\u001b[43m)\u001b[49m\n\u001b[1;32m   1040\u001b[0m     \u001b[38;5;28;01mif\u001b[39;00m dropna:\n\u001b[1;32m   1041\u001b[0m         uniqs \u001b[38;5;241m=\u001b[39m remove_na_arraylike(uniqs)\n",
      "File \u001b[0;32m/opt/homebrew/Caskroom/miniforge/base/envs/tw-env/lib/python3.11/site-packages/pandas/core/series.py:2242\u001b[0m, in \u001b[0;36mSeries.unique\u001b[0;34m(self)\u001b[0m\n\u001b[1;32m   2183\u001b[0m \u001b[38;5;28;01mdef\u001b[39;00m \u001b[38;5;21munique\u001b[39m(\u001b[38;5;28mself\u001b[39m) \u001b[38;5;241m-\u001b[39m\u001b[38;5;241m>\u001b[39m ArrayLike:\n\u001b[1;32m   2184\u001b[0m     \u001b[38;5;124;03m\"\"\"\u001b[39;00m\n\u001b[1;32m   2185\u001b[0m \u001b[38;5;124;03m    Return unique values of Series object.\u001b[39;00m\n\u001b[1;32m   2186\u001b[0m \n\u001b[0;32m   (...)\u001b[0m\n\u001b[1;32m   2240\u001b[0m \u001b[38;5;124;03m    Categories (3, object): ['a' < 'b' < 'c']\u001b[39;00m\n\u001b[1;32m   2241\u001b[0m \u001b[38;5;124;03m    \"\"\"\u001b[39;00m\n\u001b[0;32m-> 2242\u001b[0m     \u001b[38;5;28;01mreturn\u001b[39;00m \u001b[38;5;28;43msuper\u001b[39;49m\u001b[43m(\u001b[49m\u001b[43m)\u001b[49m\u001b[38;5;241;43m.\u001b[39;49m\u001b[43munique\u001b[49m\u001b[43m(\u001b[49m\u001b[43m)\u001b[49m\n",
      "File \u001b[0;32m/opt/homebrew/Caskroom/miniforge/base/envs/tw-env/lib/python3.11/site-packages/pandas/core/base.py:1001\u001b[0m, in \u001b[0;36mIndexOpsMixin.unique\u001b[0;34m(self)\u001b[0m\n\u001b[1;32m    999\u001b[0m         result \u001b[38;5;241m=\u001b[39m np\u001b[38;5;241m.\u001b[39masarray(result)\n\u001b[1;32m   1000\u001b[0m \u001b[38;5;28;01melse\u001b[39;00m:\n\u001b[0;32m-> 1001\u001b[0m     result \u001b[38;5;241m=\u001b[39m \u001b[43munique1d\u001b[49m\u001b[43m(\u001b[49m\u001b[43mvalues\u001b[49m\u001b[43m)\u001b[49m\n\u001b[1;32m   1003\u001b[0m \u001b[38;5;28;01mreturn\u001b[39;00m result\n",
      "File \u001b[0;32m/opt/homebrew/Caskroom/miniforge/base/envs/tw-env/lib/python3.11/site-packages/pandas/core/algorithms.py:409\u001b[0m, in \u001b[0;36munique\u001b[0;34m(values)\u001b[0m\n\u001b[1;32m    315\u001b[0m \u001b[38;5;28;01mdef\u001b[39;00m \u001b[38;5;21munique\u001b[39m(values):\n\u001b[1;32m    316\u001b[0m     \u001b[38;5;124;03m\"\"\"\u001b[39;00m\n\u001b[1;32m    317\u001b[0m \u001b[38;5;124;03m    Return unique values based on a hash table.\u001b[39;00m\n\u001b[1;32m    318\u001b[0m \n\u001b[0;32m   (...)\u001b[0m\n\u001b[1;32m    407\u001b[0m \u001b[38;5;124;03m    array([('a', 'b'), ('b', 'a'), ('a', 'c')], dtype=object)\u001b[39;00m\n\u001b[1;32m    408\u001b[0m \u001b[38;5;124;03m    \"\"\"\u001b[39;00m\n\u001b[0;32m--> 409\u001b[0m     \u001b[38;5;28;01mreturn\u001b[39;00m \u001b[43munique_with_mask\u001b[49m\u001b[43m(\u001b[49m\u001b[43mvalues\u001b[49m\u001b[43m)\u001b[49m\n",
      "File \u001b[0;32m/opt/homebrew/Caskroom/miniforge/base/envs/tw-env/lib/python3.11/site-packages/pandas/core/algorithms.py:425\u001b[0m, in \u001b[0;36munique_with_mask\u001b[0;34m(values, mask)\u001b[0m\n\u001b[1;32m    423\u001b[0m table \u001b[38;5;241m=\u001b[39m htable(\u001b[38;5;28mlen\u001b[39m(values))\n\u001b[1;32m    424\u001b[0m \u001b[38;5;28;01mif\u001b[39;00m mask \u001b[38;5;129;01mis\u001b[39;00m \u001b[38;5;28;01mNone\u001b[39;00m:\n\u001b[0;32m--> 425\u001b[0m     uniques \u001b[38;5;241m=\u001b[39m \u001b[43mtable\u001b[49m\u001b[38;5;241;43m.\u001b[39;49m\u001b[43munique\u001b[49m\u001b[43m(\u001b[49m\u001b[43mvalues\u001b[49m\u001b[43m)\u001b[49m\n\u001b[1;32m    426\u001b[0m     uniques \u001b[38;5;241m=\u001b[39m _reconstruct_data(uniques, original\u001b[38;5;241m.\u001b[39mdtype, original)\n\u001b[1;32m    427\u001b[0m     \u001b[38;5;28;01mreturn\u001b[39;00m uniques\n",
      "File \u001b[0;32mpandas/_libs/hashtable_class_helper.pxi:5910\u001b[0m, in \u001b[0;36mpandas._libs.hashtable.PyObjectHashTable.unique\u001b[0;34m()\u001b[0m\n",
      "File \u001b[0;32mpandas/_libs/hashtable_class_helper.pxi:5857\u001b[0m, in \u001b[0;36mpandas._libs.hashtable.PyObjectHashTable._unique\u001b[0;34m()\u001b[0m\n",
      "\u001b[0;31mTypeError\u001b[0m: unhashable type: 'list'"
     ]
    }
   ],
   "source": [
    "maya['Image link'].nunique()"
   ]
  },
  {
   "cell_type": "code",
   "execution_count": null,
   "id": "bbbd0ebe",
   "metadata": {},
   "outputs": [],
   "source": []
  }
 ],
 "metadata": {
  "kernelspec": {
   "display_name": "Python 3 (ipykernel)",
   "language": "python",
   "name": "python3"
  },
  "language_info": {
   "codemirror_mode": {
    "name": "ipython",
    "version": 3
   },
   "file_extension": ".py",
   "mimetype": "text/x-python",
   "name": "python",
   "nbconvert_exporter": "python",
   "pygments_lexer": "ipython3",
   "version": "3.11.0"
  }
 },
 "nbformat": 4,
 "nbformat_minor": 5
}
